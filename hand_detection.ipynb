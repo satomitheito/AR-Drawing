{
 "cells": [
  {
   "cell_type": "code",
   "execution_count": null,
   "id": "03486cd0",
   "metadata": {},
   "outputs": [],
   "source": [
    "#!pip install ultralytics"
   ]
  },
  {
   "cell_type": "code",
   "execution_count": 5,
   "id": "fd08e932",
   "metadata": {},
   "outputs": [],
   "source": [
    "from ultralytics import YOLO"
   ]
  },
  {
   "cell_type": "code",
   "execution_count": null,
   "id": "9b0d06b7",
   "metadata": {},
   "outputs": [],
   "source": [
    "#Load a pretrained YOLOv8 mode\n",
    "model = YOLO(\"yolov8n.pt\")\n",
    "\n",
    "#Train on hand detection dataset\n",
    "model.train(\n",
    "    data=\"hand.yaml\",\n",
    "    epochs=20,\n",
    "    imgsz=640,\n",
    "    batch=16,\n",
    "    name=\"hand-detection\",\n",
    "    device=\"mps\"\n",
    ")"
   ]
  },
  {
   "cell_type": "code",
   "execution_count": null,
   "id": "904cd9ab",
   "metadata": {},
   "outputs": [],
   "source": [
    "#Load trained model\n",
    "model = YOLO(\"runs/detect/hand-detection13/weights/best.pt\")\n",
    "\n",
    "#Run prediction on image\n",
    "results = model.predict(source=\"hand_detect_dataset/test/images/VOC2007_12.jpg\", save=True, conf=0.25)"
   ]
  }
 ],
 "metadata": {
  "kernelspec": {
   "display_name": "base",
   "language": "python",
   "name": "python3"
  },
  "language_info": {
   "codemirror_mode": {
    "name": "ipython",
    "version": 3
   },
   "file_extension": ".py",
   "mimetype": "text/x-python",
   "name": "python",
   "nbconvert_exporter": "python",
   "pygments_lexer": "ipython3",
   "version": "3.12.8"
  }
 },
 "nbformat": 4,
 "nbformat_minor": 5
}
